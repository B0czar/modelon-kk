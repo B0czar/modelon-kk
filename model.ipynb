{
  "cells": [
    {
      "cell_type": "markdown",
      "metadata": {},
      "source": [
        "# Modelo preditivo com Pipeline e GridSearchCV (RandomForest)\n",
        "\n",
        "Este notebook constrói uma pipeline de pré-processamento (numérica e categórica), faz busca de hiperparâmetros com GridSearchCV, avalia com validação cruzada e gera um arquivo de submissão para o conjunto de teste.\n"
      ]
    },
    {
      "cell_type": "code",
      "execution_count": null,
      "metadata": {},
      "outputs": [],
      "source": [
        "# Importações\n",
        "import pandas as pd\n",
        "import numpy as np\n",
        "import matplotlib.pyplot as plt\n",
        "import seaborn as sns\n",
        "from sklearn.model_selection import GridSearchCV, cross_val_predict\n",
        "from sklearn.ensemble import RandomForestClassifier\n",
        "from sklearn.impute import SimpleImputer\n",
        "from sklearn.preprocessing import StandardScaler, OneHotEncoder\n",
        "from sklearn.pipeline import Pipeline\n",
        "from sklearn.compose import ColumnTransformer\n",
        "from sklearn.metrics import confusion_matrix, classification_report\n",
        "\n",
        "# Configs de display\n",
        "pd.set_option(\"display.max_columns\", None)\n",
        "plt.style.use(\"seaborn-v0_8\")\n"
      ]
    },
    {
      "cell_type": "code",
      "execution_count": null,
      "metadata": {},
      "outputs": [],
      "source": [
        "# Carregamento dos dados\n",
        "train = pd.read_csv(\"data/train.csv\")\n",
        "test = pd.read_csv(\"data/test.csv\")\n",
        "sample_submission = pd.read_csv(\"data/sample_submission.csv\")\n",
        "\n",
        "X = train.drop(columns=[\"id\", \"labels\"], errors=\"ignore\")\n",
        "y = train[\"labels\"]\n",
        "X_test = test.drop(columns=[\"id\"], errors=\"ignore\")\n",
        "\n",
        "print(train.shape, test.shape)\n",
        "X.head()\n"
      ]
    },
    {
      "cell_type": "code",
      "execution_count": null,
      "metadata": {},
      "outputs": [],
      "source": [
        "# Pré-processamento dos dados\n",
        "num_cols = X.select_dtypes(include=[\"int64\", \"float64\"]).columns.tolist()\n",
        "cat_cols = X.select_dtypes(include=[\"object\", \"category\", \"bool\"]).columns.tolist()\n",
        "\n",
        "preprocessor = ColumnTransformer(\n",
        "    transformers=[\n",
        "        (\"num\", Pipeline(steps=[\n",
        "            (\"imputer\", SimpleImputer(strategy=\"median\")),\n",
        "            (\"scaler\", StandardScaler())\n",
        "        ]), num_cols),\n",
        "        (\"cat\", Pipeline(steps=[\n",
        "            (\"imputer\", SimpleImputer(strategy=\"most_frequent\")),\n",
        "            (\"onehot\", OneHotEncoder(handle_unknown=\"ignore\"))\n",
        "        ]), cat_cols)\n",
        "    ],\n",
        "    remainder=\"drop\"\n",
        ")\n",
        "\n",
        "print({\"num_cols\": len(num_cols), \"cat_cols\": len(cat_cols)})\n"
      ]
    },
    {
      "cell_type": "code",
      "execution_count": null,
      "metadata": {},
      "outputs": [],
      "source": [
        "# Modelo + Grid Search\n",
        "pipeline = Pipeline(steps=[\n",
        "    (\"preprocessor\", preprocessor),\n",
        "    (\"clf\", RandomForestClassifier(random_state=42, n_jobs=-1))\n",
        "])\n",
        "\n",
        "param_grid = {\n",
        "    \"clf__n_estimators\": [100, 200],\n",
        "    \"clf__max_depth\": [None, 10]\n",
        "}\n",
        "\n",
        "grid = GridSearchCV(\n",
        "    estimator=pipeline,\n",
        "    param_grid=param_grid,\n",
        "    cv=3,\n",
        "    scoring=\"accuracy\",\n",
        "    n_jobs=-1,\n",
        "    refit=True,\n",
        "    return_train_score=False\n",
        ")\n",
        "\n",
        "grid.fit(X, y)\n",
        "\n",
        "print(\"Melhores hiperparâmetros:\", grid.best_params_)\n",
        "print(\"Acurácia média CV:\", grid.best_score_)\n",
        "\n",
        "best_model = grid.best_estimator_\n"
      ]
    },
    {
      "cell_type": "code",
      "execution_count": null,
      "metadata": {},
      "outputs": [],
      "source": [
        "# Avaliação com validação cruzada\n",
        "# Usando o melhor estimador encontrado (com pré-processamento embutido)\n",
        "y_pred_cv = cross_val_predict(grid.best_estimator_, X, y, cv=3, n_jobs=-1)\n",
        "\n",
        "cm = confusion_matrix(y, y_pred_cv)\n",
        "plt.figure(figsize=(5,4))\n",
        "sns.heatmap(cm, annot=True, fmt=\"d\", cmap=\"Blues\")\n",
        "plt.title(\"Matriz de Confusão (CV)\")\n",
        "plt.xlabel(\"Predito\")\n",
        "plt.ylabel(\"Real\")\n",
        "plt.show()\n",
        "\n",
        "print(\"\\nRelatório de Classificação (CV):\\n\")\n",
        "print(classification_report(y, y_pred_cv))\n"
      ]
    },
    {
      "cell_type": "code",
      "execution_count": null,
      "metadata": {},
      "outputs": [],
      "source": [
        "# Predição no conjunto de teste e criação do arquivo de submissão\n",
        "best_model = grid.best_estimator_\n",
        "preds = best_model.predict(X_test)\n",
        "\n",
        "submission = sample_submission.copy()\n",
        "submission[\"labels\"] = preds\n",
        "\n",
        "# Garante diretório de saída\n",
        "import os\n",
        "os.makedirs(\"submissions\", exist_ok=True)\n",
        "\n",
        "output_path = \"submissions/submission3.csv\"\n",
        "submission.to_csv(output_path, index=False)\n",
        "print(f\"Arquivo salvo em: {output_path}\")\n",
        "submission.head()\n"
      ]
    }
  ],
  "metadata": {
    "language_info": {
      "name": "python"
    }
  },
  "nbformat": 4,
  "nbformat_minor": 2
}
